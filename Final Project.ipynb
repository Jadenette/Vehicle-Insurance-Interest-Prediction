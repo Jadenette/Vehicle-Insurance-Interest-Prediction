{
 "metadata": {
  "language_info": {
   "codemirror_mode": {
    "name": "ipython",
    "version": 3
   },
   "file_extension": ".py",
   "mimetype": "text/x-python",
   "name": "python",
   "nbconvert_exporter": "python",
   "pygments_lexer": "ipython3",
   "version": "3.6.9-final"
  },
  "orig_nbformat": 2,
  "kernelspec": {
   "name": "Python 3.6.9 64-bit ('fullcombo': conda)",
   "display_name": "Python 3.6.9 64-bit ('fullcombo': conda)",
   "metadata": {
    "interpreter": {
     "hash": "5b2bb0295937a12f8e982e1c6b7bf51974e0e7476b94863a571bf298772a70ba"
    }
   }
  }
 },
 "nbformat": 4,
 "nbformat_minor": 2,
 "cells": [
  {
   "source": [
    "Final Project\n",
    "\n",
    "BAN5650\n",
    "\n",
    "Health Insurance Cross Sell Prediction \n",
    "\n",
    "Building a model to predict whether a customer would be interested in Vehicle Insurance based on information obtained from thier purchases of health insurance. \n"
   ],
   "cell_type": "markdown",
   "metadata": {}
  },
  {
   "source": [
    "Data Cleaning & Feature Engineering"
   ],
   "cell_type": "markdown",
   "metadata": {}
  },
  {
   "cell_type": "code",
   "execution_count": 81,
   "metadata": {},
   "outputs": [],
   "source": [
    "import pandas as pd\n",
    "# import the dataset\n",
    "data = pd.read_csv('train.csv')"
   ]
  },
  {
   "cell_type": "code",
   "execution_count": 82,
   "metadata": {},
   "outputs": [
    {
     "output_type": "stream",
     "name": "stdout",
     "text": [
      "   id  Gender  Age  Driving_License  Region_Code  Previously_Insured  \\\n0   1    Male   44                1         28.0                   0   \n1   2    Male   76                1          3.0                   0   \n2   3    Male   47                1         28.0                   0   \n3   4    Male   21                1         11.0                   1   \n4   5  Female   29                1         41.0                   1   \n\n  Vehicle_Age Vehicle_Damage  Annual_Premium  Policy_Sales_Channel  Vintage  \\\n0   > 2 Years            Yes         40454.0                  26.0      217   \n1    1-2 Year             No         33536.0                  26.0      183   \n2   > 2 Years            Yes         38294.0                  26.0       27   \n3    < 1 Year             No         28619.0                 152.0      203   \n4    < 1 Year             No         27496.0                 152.0       39   \n\n   Response  \n0         1  \n1         0  \n2         1  \n3         0  \n4         0  \n\nShape of data:\n(381109, 12)\n\nid                        int64\nGender                   object\nAge                       int64\nDriving_License           int64\nRegion_Code             float64\nPreviously_Insured        int64\nVehicle_Age              object\nVehicle_Damage           object\nAnnual_Premium          float64\nPolicy_Sales_Channel    float64\nVintage                   int64\nResponse                  int64\ndtype: object\n"
     ]
    }
   ],
   "source": [
    "# check the basic info of dataset\n",
    "print(data.head())\n",
    "print('\\nShape of data:')\n",
    "print(data.shape)\n",
    "print()\n",
    "print(data.dtypes)"
   ]
  },
  {
   "cell_type": "code",
   "execution_count": 83,
   "metadata": {},
   "outputs": [],
   "source": [
    "def missing_values(df):\n",
    "    '''\n",
    "    This function is used to check the number of missing values of each column\n",
    "    '''\n",
    "    for col in df.columns:\n",
    "        if_any = df[col].isnull().any()\n",
    "        sum_missing = df[col].isnull().sum()\n",
    "        print(col, str(if_any), str(sum_missing))\n",
    "        print()"
   ]
  },
  {
   "cell_type": "code",
   "execution_count": 84,
   "metadata": {},
   "outputs": [],
   "source": [
    "import numpy as np\n",
    "def unique_values(df):\n",
    "    '''\n",
    "    This function is used to check the unique values of each column\n",
    "    '''\n",
    "    for col in df.columns:\n",
    "        uni = np.unique(df[col])\n",
    "        length = len(uni)\n",
    "        print('There are ',str(length), ' unique values in column', col)\n",
    "        print()\n",
    "        print(uni)\n",
    "        print()"
   ]
  },
  {
   "cell_type": "code",
   "execution_count": 85,
   "metadata": {},
   "outputs": [],
   "source": [
    "def seperate(df, feature, bins, labels):\n",
    "    '''\n",
    "    This function is used to seperate the groups\n",
    "    '''\n",
    "    df[feature] = pd.cut(df[feature], bins = bins, labels = labels, right = False)"
   ]
  },
  {
   "cell_type": "code",
   "execution_count": 86,
   "metadata": {},
   "outputs": [],
   "source": [
    "from sklearn.preprocessing import LabelEncoder \n",
    "\n",
    "def encoders (df, cat_features):\n",
    "    '''\n",
    "    This function is used to generate and store the encoders\n",
    "    '''\n",
    "    labels=[]\n",
    "    # for each column\n",
    "    for x in cat_features:\n",
    "        l = LabelEncoder()\n",
    "        labels.append(l.fit(list(df[x])))\n",
    "    \n",
    "    return labels"
   ]
  },
  {
   "cell_type": "code",
   "execution_count": 87,
   "metadata": {},
   "outputs": [],
   "source": [
    "\n",
    "def encoding(df, cat_features, encoders):\n",
    "    '''\n",
    "    This function is used to label encoding all the categorical features\n",
    "    '''\n",
    "    i = 0\n",
    "    # for each column \n",
    "    for x in cat_features:\n",
    "        df[x]=encoders[i].transform(df[x])\n",
    "        i=i+1\n"
   ]
  },
  {
   "cell_type": "code",
   "execution_count": null,
   "metadata": {},
   "outputs": [],
   "source": [
    "def distributions(df):"
   ]
  },
  {
   "cell_type": "code",
   "execution_count": null,
   "metadata": {},
   "outputs": [],
   "source": [
    "def outliers (df, num_features):"
   ]
  },
  {
   "cell_type": "code",
   "execution_count": 88,
   "metadata": {},
   "outputs": [
    {
     "output_type": "stream",
     "name": "stdout",
     "text": [
      "id False 0\n",
      "\n",
      "Gender False 0\n",
      "\n",
      "Age False 0\n",
      "\n",
      "Driving_License False 0\n",
      "\n",
      "Region_Code False 0\n",
      "\n",
      "Previously_Insured False 0\n",
      "\n",
      "Vehicle_Age False 0\n",
      "\n",
      "Vehicle_Damage False 0\n",
      "\n",
      "Annual_Premium False 0\n",
      "\n",
      "Policy_Sales_Channel False 0\n",
      "\n",
      "Vintage False 0\n",
      "\n",
      "Response False 0\n",
      "\n"
     ]
    }
   ],
   "source": [
    "# check if there are missing values in all the columns\n",
    "missing_values(data)"
   ]
  },
  {
   "cell_type": "code",
   "execution_count": 89,
   "metadata": {},
   "outputs": [
    {
     "output_type": "stream",
     "name": "stdout",
     "text": [
      "There are  381109  unique values in column id\n",
      "\n",
      "[     1      2      3 ... 381107 381108 381109]\n",
      "\n",
      "There are  2  unique values in column Gender\n",
      "\n",
      "['Female' 'Male']\n",
      "\n",
      "There are  66  unique values in column Age\n",
      "\n",
      "[20 21 22 23 24 25 26 27 28 29 30 31 32 33 34 35 36 37 38 39 40 41 42 43\n",
      " 44 45 46 47 48 49 50 51 52 53 54 55 56 57 58 59 60 61 62 63 64 65 66 67\n",
      " 68 69 70 71 72 73 74 75 76 77 78 79 80 81 82 83 84 85]\n",
      "\n",
      "There are  2  unique values in column Driving_License\n",
      "\n",
      "[0 1]\n",
      "\n",
      "There are  53  unique values in column Region_Code\n",
      "\n",
      "[ 0.  1.  2.  3.  4.  5.  6.  7.  8.  9. 10. 11. 12. 13. 14. 15. 16. 17.\n",
      " 18. 19. 20. 21. 22. 23. 24. 25. 26. 27. 28. 29. 30. 31. 32. 33. 34. 35.\n",
      " 36. 37. 38. 39. 40. 41. 42. 43. 44. 45. 46. 47. 48. 49. 50. 51. 52.]\n",
      "\n",
      "There are  2  unique values in column Previously_Insured\n",
      "\n",
      "[0 1]\n",
      "\n",
      "There are  3  unique values in column Vehicle_Age\n",
      "\n",
      "['1-2 Year' '< 1 Year' '> 2 Years']\n",
      "\n",
      "There are  2  unique values in column Vehicle_Damage\n",
      "\n",
      "['No' 'Yes']\n",
      "\n",
      "There are  48838  unique values in column Annual_Premium\n",
      "\n",
      "[  2630.   6098.   7670. ... 495106. 508073. 540165.]\n",
      "\n",
      "There are  155  unique values in column Policy_Sales_Channel\n",
      "\n",
      "[  1.   2.   3.   4.   6.   7.   8.   9.  10.  11.  12.  13.  14.  15.\n",
      "  16.  17.  18.  19.  20.  21.  22.  23.  24.  25.  26.  27.  28.  29.\n",
      "  30.  31.  32.  33.  34.  35.  36.  37.  38.  39.  40.  41.  42.  43.\n",
      "  44.  45.  46.  47.  48.  49.  50.  51.  52.  53.  54.  55.  56.  57.\n",
      "  58.  59.  60.  61.  62.  63.  64.  65.  66.  67.  68.  69.  70.  71.\n",
      "  73.  74.  75.  76.  78.  79.  80.  81.  82.  83.  84.  86.  87.  88.\n",
      "  89.  90.  91.  92.  93.  94.  95.  96.  97.  98.  99. 100. 101. 102.\n",
      " 103. 104. 105. 106. 107. 108. 109. 110. 111. 112. 113. 114. 115. 116.\n",
      " 117. 118. 119. 120. 121. 122. 123. 124. 125. 126. 127. 128. 129. 130.\n",
      " 131. 132. 133. 134. 135. 136. 137. 138. 139. 140. 143. 144. 145. 146.\n",
      " 147. 148. 149. 150. 151. 152. 153. 154. 155. 156. 157. 158. 159. 160.\n",
      " 163.]\n",
      "\n",
      "There are  290  unique values in column Vintage\n",
      "\n",
      "[ 10  11  12  13  14  15  16  17  18  19  20  21  22  23  24  25  26  27\n",
      "  28  29  30  31  32  33  34  35  36  37  38  39  40  41  42  43  44  45\n",
      "  46  47  48  49  50  51  52  53  54  55  56  57  58  59  60  61  62  63\n",
      "  64  65  66  67  68  69  70  71  72  73  74  75  76  77  78  79  80  81\n",
      "  82  83  84  85  86  87  88  89  90  91  92  93  94  95  96  97  98  99\n",
      " 100 101 102 103 104 105 106 107 108 109 110 111 112 113 114 115 116 117\n",
      " 118 119 120 121 122 123 124 125 126 127 128 129 130 131 132 133 134 135\n",
      " 136 137 138 139 140 141 142 143 144 145 146 147 148 149 150 151 152 153\n",
      " 154 155 156 157 158 159 160 161 162 163 164 165 166 167 168 169 170 171\n",
      " 172 173 174 175 176 177 178 179 180 181 182 183 184 185 186 187 188 189\n",
      " 190 191 192 193 194 195 196 197 198 199 200 201 202 203 204 205 206 207\n",
      " 208 209 210 211 212 213 214 215 216 217 218 219 220 221 222 223 224 225\n",
      " 226 227 228 229 230 231 232 233 234 235 236 237 238 239 240 241 242 243\n",
      " 244 245 246 247 248 249 250 251 252 253 254 255 256 257 258 259 260 261\n",
      " 262 263 264 265 266 267 268 269 270 271 272 273 274 275 276 277 278 279\n",
      " 280 281 282 283 284 285 286 287 288 289 290 291 292 293 294 295 296 297\n",
      " 298 299]\n",
      "\n",
      "There are  2  unique values in column Response\n",
      "\n",
      "[0 1]\n",
      "\n"
     ]
    }
   ],
   "source": [
    "# check how many unique values exist in each column and print out the names\n",
    "unique_values(data)"
   ]
  },
  {
   "source": [
    "id: categorical\n",
    "\n",
    "gender: categorical\n",
    "\n",
    "age: categorical (seperate in defferent groups)\n",
    "\n",
    "driving_license: categorical\n",
    "\n",
    "region_code: categorical\n",
    "\n",
    "previously_insured: categorical\n",
    "\n",
    "vehicle_age: numerical\n",
    "\n",
    "vehicle_damage: categorical\n",
    "\n",
    "annual_premium: numerical\n",
    "\n",
    "policy_sales_channel: categorical\n",
    "\n",
    "vintage: numerical\n",
    "\n",
    "Response: categorical"
   ],
   "cell_type": "markdown",
   "metadata": {}
  },
  {
   "cell_type": "code",
   "execution_count": 90,
   "metadata": {},
   "outputs": [],
   "source": [
    "# define categorical independent variables \n",
    "cat_cols = ['Gender', 'Age','Driving_License', 'Region_Code','Previously_Insured','Vehicle_Damage','Policy_Sales_Channel', \n",
    "'Vehicle_Age']\n",
    "# define numerical independent variables\n",
    "num_cols = ['Vehicle_Age','Annual_Premium','Vintage']"
   ]
  },
  {
   "cell_type": "code",
   "execution_count": 91,
   "metadata": {},
   "outputs": [],
   "source": [
    "# seperate the group for age\n",
    "bins = [20,30,40,50,60,70,80,90]\n",
    "labels = ['20-30', '30-40', '40-50','50-60','60-70','70-80','80-90']\n",
    "seperate(data,'Age',bins,labels)"
   ]
  },
  {
   "cell_type": "code",
   "execution_count": 92,
   "metadata": {},
   "outputs": [],
   "source": [
    "# encoding the categorial values\n",
    "l = encoders(data, cat_cols)\n",
    "encoding(data, cat_cols, l)"
   ]
  },
  {
   "cell_type": "code",
   "execution_count": 93,
   "metadata": {},
   "outputs": [
    {
     "output_type": "execute_result",
     "data": {
      "text/plain": [
       "   id  Gender  Age  Driving_License  Region_Code  Previously_Insured  \\\n",
       "0   1       1    2                1           28                   0   \n",
       "1   2       1    5                1            3                   0   \n",
       "2   3       1    2                1           28                   0   \n",
       "3   4       1    0                1           11                   1   \n",
       "4   5       0    0                1           41                   1   \n",
       "\n",
       "   Vehicle_Age  Vehicle_Damage  Annual_Premium  Policy_Sales_Channel  Vintage  \\\n",
       "0            2               1         40454.0                    24      217   \n",
       "1            0               0         33536.0                    24      183   \n",
       "2            2               1         38294.0                    24       27   \n",
       "3            1               0         28619.0                   145      203   \n",
       "4            1               0         27496.0                   145       39   \n",
       "\n",
       "   Response  \n",
       "0         1  \n",
       "1         0  \n",
       "2         1  \n",
       "3         0  \n",
       "4         0  "
      ],
      "text/html": "<div>\n<style scoped>\n    .dataframe tbody tr th:only-of-type {\n        vertical-align: middle;\n    }\n\n    .dataframe tbody tr th {\n        vertical-align: top;\n    }\n\n    .dataframe thead th {\n        text-align: right;\n    }\n</style>\n<table border=\"1\" class=\"dataframe\">\n  <thead>\n    <tr style=\"text-align: right;\">\n      <th></th>\n      <th>id</th>\n      <th>Gender</th>\n      <th>Age</th>\n      <th>Driving_License</th>\n      <th>Region_Code</th>\n      <th>Previously_Insured</th>\n      <th>Vehicle_Age</th>\n      <th>Vehicle_Damage</th>\n      <th>Annual_Premium</th>\n      <th>Policy_Sales_Channel</th>\n      <th>Vintage</th>\n      <th>Response</th>\n    </tr>\n  </thead>\n  <tbody>\n    <tr>\n      <td>0</td>\n      <td>1</td>\n      <td>1</td>\n      <td>2</td>\n      <td>1</td>\n      <td>28</td>\n      <td>0</td>\n      <td>2</td>\n      <td>1</td>\n      <td>40454.0</td>\n      <td>24</td>\n      <td>217</td>\n      <td>1</td>\n    </tr>\n    <tr>\n      <td>1</td>\n      <td>2</td>\n      <td>1</td>\n      <td>5</td>\n      <td>1</td>\n      <td>3</td>\n      <td>0</td>\n      <td>0</td>\n      <td>0</td>\n      <td>33536.0</td>\n      <td>24</td>\n      <td>183</td>\n      <td>0</td>\n    </tr>\n    <tr>\n      <td>2</td>\n      <td>3</td>\n      <td>1</td>\n      <td>2</td>\n      <td>1</td>\n      <td>28</td>\n      <td>0</td>\n      <td>2</td>\n      <td>1</td>\n      <td>38294.0</td>\n      <td>24</td>\n      <td>27</td>\n      <td>1</td>\n    </tr>\n    <tr>\n      <td>3</td>\n      <td>4</td>\n      <td>1</td>\n      <td>0</td>\n      <td>1</td>\n      <td>11</td>\n      <td>1</td>\n      <td>1</td>\n      <td>0</td>\n      <td>28619.0</td>\n      <td>145</td>\n      <td>203</td>\n      <td>0</td>\n    </tr>\n    <tr>\n      <td>4</td>\n      <td>5</td>\n      <td>0</td>\n      <td>0</td>\n      <td>1</td>\n      <td>41</td>\n      <td>1</td>\n      <td>1</td>\n      <td>0</td>\n      <td>27496.0</td>\n      <td>145</td>\n      <td>39</td>\n      <td>0</td>\n    </tr>\n  </tbody>\n</table>\n</div>"
     },
     "metadata": {},
     "execution_count": 93
    }
   ],
   "source": [
    "data.head()"
   ]
  },
  {
   "source": [],
   "cell_type": "markdown",
   "metadata": {}
  }
 ]
}